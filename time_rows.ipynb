{
  "nbformat": 4,
  "nbformat_minor": 0,
  "metadata": {
    "kernelspec": {
      "display_name": "Python 3",
      "language": "python",
      "name": "python3"
    },
    "language_info": {
      "codemirror_mode": {
        "name": "ipython",
        "version": 3
      },
      "file_extension": ".py",
      "mimetype": "text/x-python",
      "name": "python",
      "nbconvert_exporter": "python",
      "pygments_lexer": "ipython3",
      "version": "3.7.7"
    },
    "colab": {
      "provenance": [],
      "include_colab_link": true
    }
  },
  "cells": [
    {
      "cell_type": "markdown",
      "metadata": {
        "id": "view-in-github",
        "colab_type": "text"
      },
      "source": [
        "<a href=\"https://colab.research.google.com/github/wizard339/DLSchool/blob/main/time_rows.ipynb\" target=\"_parent\"><img src=\"https://colab.research.google.com/assets/colab-badge.svg\" alt=\"Open In Colab\"/></a>"
      ]
    },
    {
      "cell_type": "markdown",
      "metadata": {
        "id": "3N61252gEr8E"
      },
      "source": [
        "# Предсказание погоды\n",
        "## Coding Stream "
      ]
    },
    {
      "cell_type": "markdown",
      "metadata": {
        "id": "aV69MRQ9Er8J"
      },
      "source": [
        "Что мы хотим сделать?  \n",
        "У нас есть данные по погоде за несколько лет со многих метеостанций.  \n",
        "Мы попытаемся предсказать погоду на следующий день по предыдущим N дням с помощью линейной регрессии."
      ]
    },
    {
      "cell_type": "markdown",
      "metadata": {
        "id": "xqySv6ifEr8K"
      },
      "source": [
        "Для начала качаем данные с ftp."
      ]
    },
    {
      "cell_type": "code",
      "metadata": {
        "id": "qhFDalmUEr8K"
      },
      "source": [
        "import shutil\n",
        "import urllib\n",
        "from contextlib import closing\n",
        "\n",
        "with closing(urllib.request.urlopen('ftp://ftp.ncdc.noaa.gov/pub/data/ghcn/daily/by_year/2018.csv.gz')) as r:\n",
        "    with open('./2018.csv.gz', 'wb') as f:\n",
        "        shutil.copyfileobj(r, f)\n",
        "\n",
        "with closing(urllib.request.urlopen('ftp://ftp.ncdc.noaa.gov/pub/data/ghcn/daily/by_year/2016.csv.gz')) as r:\n",
        "    with open('./2016.csv.gz', 'wb') as f:\n",
        "        shutil.copyfileobj(r, f)\n",
        "\n",
        "with closing(urllib.request.urlopen('ftp://ftp.ncdc.noaa.gov/pub/data/ghcn/daily/by_year/2017.csv.gz')) as r:\n",
        "    with open('./2017.csv.gz', 'wb') as f:\n",
        "        shutil.copyfileobj(r, f)"
      ],
      "execution_count": 1,
      "outputs": []
    },
    {
      "cell_type": "markdown",
      "metadata": {
        "id": "H2fnrG3_Er8M"
      },
      "source": [
        "Файлы довольно большие, поэтому мы не хотим их считывать с помощью pandas. Вместо этого мы используем средства самого Python."
      ]
    },
    {
      "cell_type": "markdown",
      "metadata": {
        "id": "Iis-jVhTEr8N"
      },
      "source": [
        "Формат следующий. Файл csv, каждая строка такая:   \n",
        "`<id_станции>, <дата>, <метрика>, <значение>, <другие_параметры>`  \n",
        "Нас интересуют первые 4 столбца"
      ]
    },
    {
      "cell_type": "markdown",
      "metadata": {
        "id": "1n6731wpEr8N"
      },
      "source": [
        "Мы прочитаем все интересующие нас данные в память и выберем те метеостанции, которые вернули показания по средней дневной температуре и направлению ветра в каждый из дней года."
      ]
    },
    {
      "cell_type": "markdown",
      "metadata": {
        "id": "AymB0-1NEr8O"
      },
      "source": [
        "Dask – альтернатива pandas, позволяет делать многопоточные вычисления."
      ]
    },
    {
      "cell_type": "markdown",
      "metadata": {
        "id": "4ixCzDchEr8P"
      },
      "source": [
        "Еще есть Spark/PySpark, hdfs (библиотека – hdf5)"
      ]
    },
    {
      "cell_type": "code",
      "source": [
        "import gzip\n",
        "with gzip.open('./2018.csv.gz', 'rb') as f_in:\n",
        "    with open('2018.csv', 'wb') as f_out:\n",
        "        shutil.copyfileobj(f_in, f_out)\n",
        "\n",
        "with gzip.open('./2016.csv.gz', 'rb') as f_in:\n",
        "    with open('2016.csv', 'wb') as f_out:\n",
        "        shutil.copyfileobj(f_in, f_out)\n",
        "\n",
        "with gzip.open('./2017.csv.gz', 'rb') as f_in:\n",
        "    with open('2017.csv', 'wb') as f_out:\n",
        "        shutil.copyfileobj(f_in, f_out)"
      ],
      "metadata": {
        "id": "huUfC49NIQXC"
      },
      "execution_count": 2,
      "outputs": []
    },
    {
      "cell_type": "code",
      "metadata": {
        "id": "IVlftp_FEr8P"
      },
      "source": [
        "import pandas as pd"
      ],
      "execution_count": 3,
      "outputs": []
    },
    {
      "cell_type": "code",
      "metadata": {
        "id": "COxQc2bxEr8Q",
        "outputId": "6cb9812b-65cc-4d4b-ca03-e6f659ae3ea8",
        "colab": {
          "base_uri": "https://localhost:8080/"
        }
      },
      "source": [
        "%time data_2018 = pd.read_csv(\"./2018.csv\", header=None)"
      ],
      "execution_count": 4,
      "outputs": [
        {
          "output_type": "stream",
          "name": "stdout",
          "text": [
            "CPU times: user 24.8 s, sys: 15.5 s, total: 40.3 s\n",
            "Wall time: 41.4 s\n"
          ]
        }
      ]
    },
    {
      "cell_type": "code",
      "metadata": {
        "id": "n6gNdilFEr8R",
        "outputId": "e86e6af6-922a-436d-bb4f-573c57294169",
        "colab": {
          "base_uri": "https://localhost:8080/"
        }
      },
      "source": [
        "!head -10 2018.csv"
      ],
      "execution_count": 5,
      "outputs": [
        {
          "output_type": "stream",
          "name": "stdout",
          "text": [
            "AE000041196,20180101,TMAX,259,,,S,\n",
            "AE000041196,20180101,TMIN,112,,,S,\n",
            "AE000041196,20180101,TAVG,186,H,,S,\n",
            "AEM00041194,20180101,TMAX,250,,,S,\n",
            "AEM00041194,20180101,PRCP,0,,,S,\n",
            "AEM00041194,20180101,TAVG,209,H,,S,\n",
            "AEM00041217,20180101,TMIN,132,,,S,\n",
            "AEM00041217,20180101,TAVG,191,H,,S,\n",
            "AEM00041218,20180101,TAVG,193,H,,S,\n",
            "AFM00040938,20180101,TAVG,82,H,,S,\n"
          ]
        }
      ]
    },
    {
      "cell_type": "markdown",
      "metadata": {
        "id": "Tv-22CKoE0MZ"
      },
      "source": [
        "## Необходимый код"
      ]
    },
    {
      "cell_type": "code",
      "metadata": {
        "id": "j9DJSiUDEr8R"
      },
      "source": [
        "import sys\n",
        "from sklearn import linear_model\n",
        "\n",
        "\n",
        "def days_in_year(year):\n",
        "    if year % 4 != 0:\n",
        "        return 365\n",
        "    if year % 400 == 0:\n",
        "        return 366\n",
        "    if year % 100 == 0:\n",
        "        return 365\n",
        "    return 366\n",
        "\n",
        "\n",
        "def parse_years(years):\n",
        "    \"\"\"\n",
        "    codes = {\n",
        "        code: {\n",
        "            'dt': {\n",
        "                'TAVG': float,\n",
        "                'SNWD': float\n",
        "            }\n",
        "        }\n",
        "    }\n",
        "    \n",
        "    codes = {\n",
        "        'AEM00041218': {\n",
        "            '20160101': {\n",
        "                'TAVG': -5,\n",
        "                'SNWD': 0\n",
        "            },\n",
        "            '20160102' : {\n",
        "                ...\n",
        "            }\n",
        "        },\n",
        "    }\n",
        "    \n",
        "    result = {\n",
        "        code: [\n",
        "            (temp1, wind1),\n",
        "            (temp2, wind2),\n",
        "            ...\n",
        "        ]\n",
        "    }\n",
        "    \"\"\"\n",
        "    result = {}\n",
        "    for year in years:\n",
        "        codes = {}\n",
        "        for line in open('{year}.csv'.format(year=year), 'rt'):\n",
        "            if line and line[-1] == '\\n':\n",
        "                line = line[:-1]\n",
        "            data = line.split(',')\n",
        "            code, dt, metric, value = data[0:4]\n",
        "            if metric not in ['TAVG', 'SNWD']:\n",
        "                continue\n",
        "            if code not in codes:\n",
        "                codes[code] = {}\n",
        "            dates = codes[code]\n",
        "            if dt not in dates:\n",
        "                dates[dt] = {}\n",
        "            dates[dt][metric] = float(value) / 10\n",
        "        for code, dates in codes.items():\n",
        "            data_temp = [dates[dt]['TAVG'] for dt in sorted(dates.keys()) if 'TAVG' in dates[dt]]\n",
        "            data_wind = [dates[dt]['SNWD'] for dt in sorted(dates.keys()) if 'SNWD' in dates[dt]]\n",
        "            if len(data_temp) != days_in_year(year) or len(data_wind) != days_in_year(year):\n",
        "                continue\n",
        "            if code not in result:\n",
        "                result[code] = list(zip(data_temp, data_wind))\n",
        "            else:\n",
        "                result[code] += list(zip(data_temp, data_wind))\n",
        "    return result"
      ],
      "execution_count": 6,
      "outputs": []
    },
    {
      "cell_type": "code",
      "metadata": {
        "id": "H1Vg8famEr8T"
      },
      "source": [
        "def iterate_data(data, window):\n",
        "    \"\"\"\n",
        "    Сюда приходит result\n",
        "    \n",
        "    yield создает итератор, который при каждом вызове (или итерации по нему) возвращает один объект за раз\n",
        "    Это полезно, когда у нас большие файлы, которые мы не хотим грузить в память\n",
        "    \"\"\"\n",
        "    for _, items in data.items():\n",
        "        for i in range(0, len(items) - window - 1):\n",
        "             yield items[i : i + window], items[i + window][0]\n",
        "\n",
        "def calc_mse(data, window, model):\n",
        "    result, count = 0.0, 0\n",
        "    for x, y in iterate_data(data, window):\n",
        "        result += ((model(x) - y)**2)\n",
        "        count += 1\n",
        "    return result / count\n",
        "\n",
        "\n",
        "def prepare_features(x):\n",
        "    return [x[i][0] for i in range(len(x))] + [x[i][1] for i in range(len(x))]"
      ],
      "execution_count": 7,
      "outputs": []
    },
    {
      "cell_type": "code",
      "metadata": {
        "id": "jaUlhQqVEr8T"
      },
      "source": [
        "def train_linear_regression(data, window):\n",
        "    X, Y = [], []\n",
        "    for x, y in iterate_data(data, window):\n",
        "        X.append(prepare_features(x))\n",
        "        Y.append(y)\n",
        "    regr = linear_model.LinearRegression()\n",
        "    regr.fit(X, Y)\n",
        "    return regr\n",
        "\n",
        "\n",
        "def apply_regression(data, model):\n",
        "    return model.predict([prepare_features(data)])[0]\n",
        "\n",
        "\n",
        "def baseline_model(data):\n",
        "    # data is a list of tuples (temp, wind)\n",
        "    return data[-1][0]"
      ],
      "execution_count": 8,
      "outputs": []
    },
    {
      "cell_type": "markdown",
      "metadata": {
        "id": "61m_hhMTE5P4"
      },
      "source": [
        "## Чтение данных"
      ]
    },
    {
      "cell_type": "markdown",
      "metadata": {
        "id": "01FJ4OjUEr8U"
      },
      "source": [
        "Прочитаем наши данные  \n",
        "Данные для обучения и валидации не должны пересекаться – иначе это прямой путь к переобучению"
      ]
    },
    {
      "cell_type": "code",
      "metadata": {
        "id": "RNZvhVSyEr8U"
      },
      "source": [
        "train = parse_years([2016])\n",
        "test = parse_years([2017])"
      ],
      "execution_count": 9,
      "outputs": []
    },
    {
      "cell_type": "markdown",
      "metadata": {
        "id": "C_lOzz3PEr8U"
      },
      "source": [
        "Зададим окно, с которым мы будем обучать модель. Это будет количество дней (признаков/2), на которые мы будем смотреть"
      ]
    },
    {
      "cell_type": "code",
      "metadata": {
        "id": "LZd30ua-Er8V"
      },
      "source": [
        "window = 14"
      ],
      "execution_count": 10,
      "outputs": []
    },
    {
      "cell_type": "markdown",
      "metadata": {
        "id": "1UFboA_tE9Hu"
      },
      "source": [
        "## Baseline-модель"
      ]
    },
    {
      "cell_type": "markdown",
      "metadata": {
        "id": "fmyaXVteEr8V"
      },
      "source": [
        "Посчитаем метрики на обучении и валидации для нашей baseline-модели.  \n",
        "В качестве базовой модели выберем такую - будем всегда возвращать температуру за вчерашний день.  \n",
        "\n",
        "Почему мы делаем так: наша задача состоит в том, чтобы предсказать температуру на следующий день.  \n",
        "В качестве такого предсказания мы будем возвращать температуру за вчерашний день, так как обычно изменение температуры за соседние дни бывает не очень сильное."
      ]
    },
    {
      "cell_type": "code",
      "metadata": {
        "id": "gQ0n1wxREr8V",
        "outputId": "644a04ef-0e67-479f-f12e-db1e7e139169",
        "colab": {
          "base_uri": "https://localhost:8080/"
        }
      },
      "source": [
        "calc_mse(train, window, baseline_model)"
      ],
      "execution_count": 11,
      "outputs": [
        {
          "output_type": "execute_result",
          "data": {
            "text/plain": [
              "8.635652978002812"
            ]
          },
          "metadata": {},
          "execution_count": 11
        }
      ]
    },
    {
      "cell_type": "code",
      "metadata": {
        "id": "UHxQBC6tEr8V",
        "outputId": "b7eeb655-3345-4d95-cb8b-878ee0a661ad",
        "colab": {
          "base_uri": "https://localhost:8080/"
        }
      },
      "source": [
        "calc_mse(test, window, baseline_model)"
      ],
      "execution_count": 12,
      "outputs": [
        {
          "output_type": "execute_result",
          "data": {
            "text/plain": [
              "8.830649009826294"
            ]
          },
          "metadata": {},
          "execution_count": 12
        }
      ]
    },
    {
      "cell_type": "markdown",
      "metadata": {
        "id": "vY-NLjdAFAVb"
      },
      "source": [
        "## Линейная регрессия"
      ]
    },
    {
      "cell_type": "markdown",
      "metadata": {
        "id": "_7OcuUCIEr8W"
      },
      "source": [
        "Давайте обучим нашу модель линейной регрессии:"
      ]
    },
    {
      "cell_type": "code",
      "metadata": {
        "id": "H0s6vjVMEr8W"
      },
      "source": [
        "model = train_linear_regression(train, window)"
      ],
      "execution_count": 13,
      "outputs": []
    },
    {
      "cell_type": "markdown",
      "metadata": {
        "id": "TT5ZUYRuEr8W"
      },
      "source": [
        "И посмотрим на результаты:"
      ]
    },
    {
      "cell_type": "code",
      "metadata": {
        "id": "mWZLuvi4Er8W",
        "outputId": "507ffb10-e5db-4d4a-e4b6-ada92f7072f2",
        "colab": {
          "base_uri": "https://localhost:8080/"
        }
      },
      "source": [
        "calc_mse(train, window, lambda x: apply_regression(x, model))"
      ],
      "execution_count": 14,
      "outputs": [
        {
          "output_type": "execute_result",
          "data": {
            "text/plain": [
              "7.205531465193543"
            ]
          },
          "metadata": {},
          "execution_count": 14
        }
      ]
    },
    {
      "cell_type": "code",
      "metadata": {
        "id": "OONjl9ljEr8X",
        "outputId": "f8afa1e7-053e-40e8-defd-6e23051e5140",
        "colab": {
          "base_uri": "https://localhost:8080/"
        }
      },
      "source": [
        "calc_mse(test, window, lambda x: apply_regression(x, model))"
      ],
      "execution_count": 15,
      "outputs": [
        {
          "output_type": "execute_result",
          "data": {
            "text/plain": [
              "7.70706933578011"
            ]
          },
          "metadata": {},
          "execution_count": 15
        }
      ]
    },
    {
      "cell_type": "markdown",
      "metadata": {
        "id": "EmywRy4OEr8X"
      },
      "source": [
        "Получилось, что линейная регрессия справляется лучше, чем baseline-модель.  \n",
        "Также, метрики не сильно отличаются между обучением и валидацией. Это значит, что переобучения не произошло."
      ]
    },
    {
      "cell_type": "markdown",
      "metadata": {
        "id": "A5tQr4lJEr8X"
      },
      "source": [
        "Что, если мы возьмем другой размер окна?"
      ]
    },
    {
      "cell_type": "code",
      "metadata": {
        "id": "SugUlbTuEr8X",
        "outputId": "e481feaa-6d36-42b2-b748-f95b8e00fd09",
        "colab": {
          "base_uri": "https://localhost:8080/"
        }
      },
      "source": [
        "window = 30\n",
        "model = train_linear_regression(train, window)\n",
        "print(\"MSE train\", calc_mse(train, window, lambda x: apply_regression(x, model)))\n",
        "print(\"MSE test\", calc_mse(test, window, lambda x: apply_regression(x, model)))"
      ],
      "execution_count": 16,
      "outputs": [
        {
          "output_type": "stream",
          "name": "stdout",
          "text": [
            "MSE train 7.079836812835604\n",
            "MSE test 7.664089839760451\n"
          ]
        }
      ]
    },
    {
      "cell_type": "markdown",
      "metadata": {
        "id": "_BH1RuVJFGTR"
      },
      "source": [
        "## Регуляризация"
      ]
    },
    {
      "cell_type": "markdown",
      "metadata": {
        "id": "1jZcmamREr8X"
      },
      "source": [
        "Метрика на валидации заметно выше, чем на обучении. Похоже, мы встретились с переобучением.  \n",
        "Попробуем применить регуляризацию:"
      ]
    },
    {
      "cell_type": "code",
      "metadata": {
        "id": "fMIO6arxEr8Y"
      },
      "source": [
        "from sklearn.linear_model import Ridge\n",
        "\n",
        "def train_ridge_regression(data, window, alpha=1.0):\n",
        "    X, Y = [], []\n",
        "    for x, y in iterate_data(data, window):\n",
        "        X.append(prepare_features(x))\n",
        "        Y.append(y)\n",
        "    regr = Ridge(alpha=alpha)\n",
        "    regr.fit(X, Y)\n",
        "    return regr"
      ],
      "execution_count": 17,
      "outputs": []
    },
    {
      "cell_type": "code",
      "metadata": {
        "id": "HaQ2FDZ-Er8Y",
        "outputId": "75fcf723-bfdb-496c-f793-47d9972f56f2",
        "colab": {
          "base_uri": "https://localhost:8080/"
        }
      },
      "source": [
        "window = 30\n",
        "model = train_ridge_regression(train, window, alpha=10)\n",
        "print(\"MSE train\", calc_mse(train, window, lambda x: apply_regression(x, model)))\n",
        "print(\"MSE test\", calc_mse(test, window, lambda x: apply_regression(x, model)))"
      ],
      "execution_count": 18,
      "outputs": [
        {
          "output_type": "stream",
          "name": "stdout",
          "text": [
            "MSE train 7.079836813121136\n",
            "MSE test 7.664090321867854\n"
          ]
        }
      ]
    },
    {
      "cell_type": "code",
      "metadata": {
        "id": "ITliWHrsEr8Y",
        "outputId": "bf2233c7-d4b9-4bff-dc5f-9747f823f967",
        "colab": {
          "base_uri": "https://localhost:8080/"
        }
      },
      "source": [
        "window = 7\n",
        "model = train_ridge_regression(train, window, alpha=100)\n",
        "print(\"MSE train\", calc_mse(train, window, lambda x: apply_regression(x, model)))\n",
        "print(\"MSE test\", calc_mse(test, window, lambda x: apply_regression(x, model)))"
      ],
      "execution_count": 19,
      "outputs": [
        {
          "output_type": "stream",
          "name": "stdout",
          "text": [
            "MSE train 7.4263111126158154\n",
            "MSE test 7.856654630158888\n"
          ]
        }
      ]
    },
    {
      "cell_type": "markdown",
      "metadata": {
        "id": "MoVH86PSFH3j"
      },
      "source": [
        "## Random Forest"
      ]
    },
    {
      "cell_type": "markdown",
      "metadata": {
        "id": "A-lcYtrREr8a"
      },
      "source": [
        "Давайте попробуем случайный лес (осторожно, обучается намного дольше регрессии):"
      ]
    },
    {
      "cell_type": "code",
      "metadata": {
        "id": "hXfd_9dxEr8a"
      },
      "source": [
        "from sklearn.ensemble import RandomForestRegressor\n",
        "\n",
        "def train_random_forest_regression(data, window, n_estimators=10, max_depth=None):\n",
        "    X, Y = [], []\n",
        "    for x, y in iterate_data(data, window):\n",
        "        X.append(prepare_features(x))\n",
        "        Y.append(y)\n",
        "    regr = RandomForestRegressor(n_estimators=n_estimators, max_depth=max_depth)\n",
        "    regr.fit(X, Y)\n",
        "    return regr"
      ],
      "execution_count": 20,
      "outputs": []
    },
    {
      "cell_type": "code",
      "metadata": {
        "id": "m-6lumn8Er8a",
        "outputId": "d55f7a84-370e-4fd8-bb7d-d1660b68dda4",
        "colab": {
          "base_uri": "https://localhost:8080/"
        }
      },
      "source": [
        "window = 30\n",
        "model = train_random_forest_regression(train, window)\n",
        "print(\"MSE train\", calc_mse(train, window, lambda x: apply_regression(x, model)))\n",
        "print(\"MSE test\", calc_mse(test, window, lambda x: apply_regression(x, model)))"
      ],
      "execution_count": 21,
      "outputs": [
        {
          "output_type": "stream",
          "name": "stdout",
          "text": [
            "MSE train 0.7299032598806909\n",
            "MSE test 9.210695129740861\n"
          ]
        }
      ]
    },
    {
      "cell_type": "markdown",
      "metadata": {
        "id": "3H-5NwpAEr8b"
      },
      "source": [
        "Видим, что модель очень сильно переобучилась. Попробуем ограничить глубину деревьев:"
      ]
    },
    {
      "cell_type": "code",
      "metadata": {
        "id": "z57hWNqkEr8b",
        "outputId": "bb1234d9-a759-48ff-c785-9907cdf58c46",
        "colab": {
          "base_uri": "https://localhost:8080/"
        }
      },
      "source": [
        "window = 30\n",
        "model = train_random_forest_regression(train, window, max_depth=2)\n",
        "print(\"MSE train\", calc_mse(train, window, lambda x: apply_regression(x, model)))\n",
        "print(\"MSE test\", calc_mse(test, window, lambda x: apply_regression(x, model)))"
      ],
      "execution_count": 22,
      "outputs": [
        {
          "output_type": "stream",
          "name": "stdout",
          "text": [
            "MSE train 16.53430742071886\n",
            "MSE test 16.793567823141778\n"
          ]
        }
      ]
    },
    {
      "cell_type": "markdown",
      "metadata": {
        "id": "RTIHmTJTEr8b"
      },
      "source": [
        "Переобучения больше нет, но результаты даже намного хуже, чем у baseline-модели. По-хорошему тут нужно запускать grid search на разные параметры, но это очень долго."
      ]
    },
    {
      "cell_type": "markdown",
      "metadata": {
        "id": "uC58cx5QEr8b"
      },
      "source": [
        "Над чем еще можно было бы поработать?\n",
        "\n",
        " * Использовать те метеостанции, которые не вернули данные за весь год - улучшит это обучение или ухудшит?\n",
        " * Учесть месяц/время года в качестве признаков\n",
        " * Учесть геопозицию метеостанции (это есть в соседних файлах на ftp, их можно скачать)\n",
        " * Изменить предобработку данных?\n",
        " * Что еще?"
      ]
    }
  ]
}